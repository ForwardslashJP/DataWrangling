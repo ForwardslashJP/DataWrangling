{
 "cells": [
  {
   "cell_type": "markdown",
   "id": "6cb0535f",
   "metadata": {},
   "source": [
    "# Group A\n",
    "## Assignment 1"
   ]
  },
  {
   "cell_type": "markdown",
   "id": "91f4fd33",
   "metadata": {},
   "source": [
    "### Data Wrangling I "
   ]
  },
  {
   "cell_type": "raw",
   "id": "06d85d5f",
   "metadata": {},
   "source": [
    "Perform the following operations using Python on any open source dataset (e.g., data.csv) \n",
    "1. Import all the required Python Libraries. \n",
    "2. Locate an open source data from the web (e.g., https://www.kaggle.com). Provide a clear description of the data and its source (i.e., URL of the web site). \n",
    "3. Load the Dataset into pandas dataframe. \n",
    "4. Data Preprocessing: check for missing values in the data using pandas isnull(), describe() function to get some initial statistics. Provide variable descriptions. Types of variables etc. Check the dimensions of the data frame. \n",
    "5. Data Formatting and Data Normalization: Summarize the types of variables by checking the data types (i.e., character, numeric, integer, factor, and logical) of the variables in the data set. If variables are not in the correct data type, apply proper type conversions. \n",
    "6. Turn categorical variables into quantitative variables in Python."
   ]
  },
  {
   "cell_type": "markdown",
   "id": "630257f0",
   "metadata": {},
   "source": [
    "### Import all the required Python Libraries."
   ]
  },
  {
   "cell_type": "code",
   "execution_count": 1,
   "id": "d7dcda1c",
   "metadata": {},
   "outputs": [],
   "source": [
    "# code here"
   ]
  },
  {
   "cell_type": "markdown",
   "id": "4ec8bcf0",
   "metadata": {},
   "source": [
    "### Load the Dataset into pandas dataframe. "
   ]
  },
  {
   "cell_type": "code",
   "execution_count": null,
   "id": "63807015",
   "metadata": {},
   "outputs": [],
   "source": [
    "# code here"
   ]
  },
  {
   "cell_type": "markdown",
   "id": "0d3db2e6",
   "metadata": {},
   "source": [
    "## Data Preprocessing"
   ]
  },
  {
   "cell_type": "markdown",
   "id": "62eff18f",
   "metadata": {},
   "source": [
    "#### check for missing values in the data using pandas isnull()"
   ]
  },
  {
   "cell_type": "code",
   "execution_count": null,
   "id": "b73d16fb",
   "metadata": {},
   "outputs": [],
   "source": [
    "# code here"
   ]
  },
  {
   "cell_type": "markdown",
   "id": "f25eec83",
   "metadata": {},
   "source": [
    "#### describe() function to get some initial statistics. Provide variable descriptions."
   ]
  },
  {
   "cell_type": "code",
   "execution_count": null,
   "id": "36896d0e",
   "metadata": {},
   "outputs": [],
   "source": [
    "# code here"
   ]
  },
  {
   "cell_type": "markdown",
   "id": "72b54806",
   "metadata": {},
   "source": [
    "#### Types of variables"
   ]
  },
  {
   "cell_type": "code",
   "execution_count": null,
   "id": "79ac00cd",
   "metadata": {},
   "outputs": [],
   "source": [
    "# code here"
   ]
  },
  {
   "cell_type": "markdown",
   "id": "5cf353a8",
   "metadata": {},
   "source": [
    "#### Check the dimensions of the data frame"
   ]
  },
  {
   "cell_type": "code",
   "execution_count": null,
   "id": "5ef01114",
   "metadata": {},
   "outputs": [],
   "source": [
    "# code here"
   ]
  },
  {
   "cell_type": "markdown",
   "id": "23818652",
   "metadata": {},
   "source": [
    "### Data Formatting and Data Normalization"
   ]
  },
  {
   "cell_type": "markdown",
   "id": "b7246931",
   "metadata": {},
   "source": [
    "#### Summarize the types of variables by checking the data types (i.e., character, numeric, integer, factor, and logical) of the variables in the data set."
   ]
  },
  {
   "cell_type": "code",
   "execution_count": null,
   "id": "ae0f2f6f",
   "metadata": {},
   "outputs": [],
   "source": [
    "# code here"
   ]
  },
  {
   "cell_type": "markdown",
   "id": "1412993d",
   "metadata": {},
   "source": [
    "#### If variables are not in the correct data type, apply proper type conversions. \n"
   ]
  },
  {
   "cell_type": "code",
   "execution_count": null,
   "id": "898fdfc3",
   "metadata": {},
   "outputs": [],
   "source": [
    "# code here"
   ]
  },
  {
   "cell_type": "markdown",
   "id": "a9769a8a",
   "metadata": {},
   "source": [
    "### Turn categorical variables into quantitative variables in Python."
   ]
  },
  {
   "cell_type": "code",
   "execution_count": null,
   "id": "dcdd27ed",
   "metadata": {},
   "outputs": [],
   "source": [
    "# code here"
   ]
  }
 ],
 "metadata": {
  "kernelspec": {
   "display_name": "Python 3 (ipykernel)",
   "language": "python",
   "name": "python3"
  },
  "language_info": {
   "codemirror_mode": {
    "name": "ipython",
    "version": 3
   },
   "file_extension": ".py",
   "mimetype": "text/x-python",
   "name": "python",
   "nbconvert_exporter": "python",
   "pygments_lexer": "ipython3",
   "version": "3.9.12"
  }
 },
 "nbformat": 4,
 "nbformat_minor": 5
}

